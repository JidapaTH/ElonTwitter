{
 "cells": [
  {
   "cell_type": "code",
   "execution_count": 1,
   "metadata": {},
   "outputs": [
    {
     "name": "stdout",
     "output_type": "stream",
     "text": [
      "Initialized empty Git repository in /jet/prs/workspace/242-yolo/notebooks/.git/\r\n"
     ]
    }
   ],
   "source": [
    "# ! git init"
   ]
  },
  {
   "cell_type": "code",
   "execution_count": 14,
   "metadata": {},
   "outputs": [],
   "source": [
    "# ! git add ./"
   ]
  },
  {
   "cell_type": "code",
   "execution_count": 15,
   "metadata": {},
   "outputs": [],
   "source": [
    "! git config --global user.email \"jidapa.th@berkeley.edu\"\n",
    "! git config --global user.name \"JidapaTH\""
   ]
  },
  {
   "cell_type": "code",
   "execution_count": 16,
   "metadata": {},
   "outputs": [
    {
     "name": "stdout",
     "output_type": "stream",
     "text": [
      "[master (root-commit) 1945ee9] Initial commit\r\n",
      " 22 files changed, 35957 insertions(+)\r\n",
      " create mode 100644 .ipynb_checkpoints/Git_console-checkpoint.ipynb\r\n",
      " create mode 100644 Git_console.ipynb\r\n",
      " create mode 100644 edward/.ipynb_checkpoints/2019-04-09_eda1-checkpoint.ipynb\r\n",
      " create mode 100644 edward/2019-04-09_eda1.ipynb\r\n",
      " create mode 100644 jeff/.ipynb_checkpoints/2019_04_09_Data_Exploration-checkpoint.ipynb\r\n",
      " create mode 100644 jeff/2019_04_09_Data_Exploration.ipynb\r\n",
      " create mode 100644 jidapa/.ipynb_checkpoints/2019_04_09_Webscrapper-checkpoint.ipynb\r\n",
      " create mode 100644 jidapa/.ipynb_checkpoints/Googletrend-checkpoint.ipynb\r\n",
      " create mode 100644 jidapa/2019_04_09_Webscrapper.ipynb\r\n",
      " create mode 160000 jidapa/GetOldTweetspython\r\n",
      " create mode 100644 jidapa/Googletrend.ipynb\r\n",
      " create mode 160000 jidapa/pytrenddaily\r\n",
      " create mode 100644 jing/.ipynb_checkpoints/2019_04_06_Features-checkpoint.ipynb\r\n",
      " create mode 100644 jing/.ipynb_checkpoints/2019_04_06_Twitter_NLP-checkpoint.ipynb\r\n",
      " create mode 100644 jing/2019_04_06_Features.ipynb\r\n",
      " create mode 100644 jing/2019_04_06_Twitter_NLP.ipynb\r\n",
      " create mode 100644 yishuang/.ipynb_checkpoints/2019_04_06_elon_clean-checkpoint.ipynb\r\n",
      " create mode 100644 yishuang/.ipynb_checkpoints/2019_04_06_tesla_clean-checkpoint.ipynb\r\n",
      " create mode 100644 yishuang/.ipynb_checkpoints/2019_04_09_stock -checkpoint.ipynb\r\n",
      " create mode 100644 yishuang/2019_04_06_elon_clean.ipynb\r\n",
      " create mode 100644 yishuang/2019_04_06_tesla_clean.ipynb\r\n",
      " create mode 100644 yishuang/2019_04_09_stock .ipynb\r\n"
     ]
    }
   ],
   "source": [
    "# ! git remote add origin https://github.com/JidapaTH/ElonTwitter.git\n",
    "! git commit -m \"Initial commit\" ./"
   ]
  },
  {
   "cell_type": "code",
   "execution_count": 17,
   "metadata": {},
   "outputs": [
    {
     "name": "stdout",
     "output_type": "stream",
     "text": [
      "Username for 'https://github.com': ^C\n"
     ]
    }
   ],
   "source": [
    "! git push --set-upstream origin master "
   ]
  },
  {
   "cell_type": "code",
   "execution_count": 18,
   "metadata": {},
   "outputs": [],
   "source": [
    "# set ssh\n",
    "\n",
    "# ssh-keygen -t rsa -b 4096 -C \"your_email@example.com\"\n",
    "# Save ssh key in /home/edwardtiong_63/.ssh/rsa\n",
    "# the key fingerprint is:\n",
    "# SHA256:xaZSIEbbWJ9m4AY5EinUDGP+gihOmf/5ZRtPfscOuaQ jidapa.th@berkeley.edu\n",
    "# The key's randomart image is:\n",
    "# +---[RSA 4096]----+\n",
    "# |.==+=.+          |\n",
    "# |+ ++oO + o       |\n",
    "# | o .o.+ * +      |\n",
    "# |o +  . + +       |\n",
    "# |+= .  . S        |\n",
    "# |+ o    .      .  |\n",
    "# | . .     + . +.  |\n",
    "# |    . . o * o.oo |\n",
    "# |     o.. . E..o. |\n",
    "# +----[SHA256]-----+\n",
    "# edwardtiong_63@yolo-2"
   ]
  },
  {
   "cell_type": "code",
   "execution_count": 22,
   "metadata": {},
   "outputs": [],
   "source": [
    "# ! vi /home/edwardtiong_63/.ssh/id_rsa.pub"
   ]
  },
  {
   "cell_type": "code",
   "execution_count": null,
   "metadata": {},
   "outputs": [],
   "source": []
  }
 ],
 "metadata": {
  "kernelspec": {
   "display_name": "Python 3",
   "language": "python",
   "name": "python3"
  },
  "language_info": {
   "codemirror_mode": {
    "name": "ipython",
    "version": 3
   },
   "file_extension": ".py",
   "mimetype": "text/x-python",
   "name": "python",
   "nbconvert_exporter": "python",
   "pygments_lexer": "ipython3",
   "version": "3.6.3"
  }
 },
 "nbformat": 4,
 "nbformat_minor": 2
}
